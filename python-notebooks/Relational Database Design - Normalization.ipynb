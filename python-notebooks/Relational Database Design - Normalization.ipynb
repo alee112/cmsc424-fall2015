{
 "metadata": {
  "name": "",
  "signature": "sha256:ba55ae08c38edf8beba4a0bc990efb83e79c4e3d58286ac1d94d0ace289adbbb"
 },
 "nbformat": 3,
 "nbformat_minor": 0,
 "worksheets": [
  {
   "cells": [
    {
     "cell_type": "markdown",
     "metadata": {},
     "source": [
      "This notebook shows simple implementations of a few of the algorithms for reasoning with functional dependencies, for normalization during relational database design. Specifically, it contains code for finding the closure of a set of functional dependencies, finding keys and candidate keys, and decomposing a schema into BCNF.\n",
      "\n",
      "First, we create a class to represent a Functional Dependency, to make the code cleaner."
     ]
    },
    {
     "cell_type": "code",
     "collapsed": false,
     "input": [
      "from itertools import chain, combinations\n",
      "\n",
      "# A class to encapsulate a Functional Dependency, and some helper functions\n",
      "class FD:\n",
      "        def __init__(self, lhs, rhs):\n",
      "                self.lhs = frozenset(list(lhs))\n",
      "                self.rhs = frozenset(list(rhs))\n",
      "        def __str__(self):\n",
      "                return ''.join(self.lhs) + \" -> \" + ''.join(self.rhs)\n",
      "        def __eq__(self, other):\n",
      "                return (self.lhs == other.lhs) & (self.rhs == other.rhs)\n",
      "        def __hash__(self):\n",
      "                return hash(self.lhs) * hash(self.rhs)\n",
      "        def isTrivial(self):\n",
      "                \"\"\"A functional dependency is trivial if the right hand side is a subset of the left h.s.\"\"\"\n",
      "                return self.lhs >= self.rhs\n"
     ],
     "language": "python",
     "metadata": {},
     "outputs": [],
     "prompt_number": 1
    },
    {
     "cell_type": "code",
     "collapsed": false,
     "input": [
      "# The following is not really needed for normalization, but may be useful to get intuitions about FDs\n",
      "# IMPORTANT: Don't forget that for an FD to hold on a relation schema, it must hold on all legal (possible) instances\n",
      "# It is not sufficient to hold on a few of the instances\n",
      "class Relation:\n",
      "        def __init__(self, schema):\n",
      "                self.tuples = list()\n",
      "                self.schema = schema\n",
      "        def add(self, t):\n",
      "                if len(t) == len(self.schema):\n",
      "                        self.tuples.append(t)\n",
      "                else:\n",
      "                        print \"Added tuple does not match the length of the schema\"\n",
      "        def checkIfMatch(self, t1, t2, attr_set):\n",
      "                return all(t1[self.schema.index(attr)] == t2[self.schema.index(attr)] for attr in attr_set)\n",
      "        def checkFDHolds(self, fd):\n",
      "                \"\"\"Go over all pairs of tuples and see if the FD is violated\"\"\"\n",
      "                holds = True\n",
      "                for t1 in self.tuples:\n",
      "                        for t2 in self.tuples:\n",
      "                                if t1 < t2 and self.checkIfMatch(t1, t2, fd.lhs) and not self.checkIfMatch(t1, t2, fd.rhs):\n",
      "                                        print \"Tuples \" + str(t1) + \" and \" + str(t2) + \" violate the FD \" + str(fd)\n",
      "                                        holds = False\n",
      "                if holds: print \"FD \" + str(fd) + \" holds on this relation\""
     ],
     "language": "python",
     "metadata": {},
     "outputs": [],
     "prompt_number": 2
    },
    {
     "cell_type": "code",
     "collapsed": false,
     "input": [
      "r = Relation(['A', 'B', 'C'])\n",
      "r.add([1, 2, 3])\n",
      "r.add([2, 2, 3])\n",
      "r.checkFDHolds(FD('C', 'A'))\n",
      "r.checkFDHolds(FD('A', 'B'))\n",
      "r.checkFDHolds(FD('A', 'BC'))"
     ],
     "language": "python",
     "metadata": {},
     "outputs": [
      {
       "output_type": "stream",
       "stream": "stdout",
       "text": [
        "Tuples [1, 2, 3] and [2, 2, 3] violate the FD C -> A\n",
        "FD A -> B holds on this relation\n",
        "FD A -> CB holds on this relation\n"
       ]
      }
     ],
     "prompt_number": 3
    },
    {
     "cell_type": "code",
     "collapsed": false,
     "input": [
      "# We need to construct powersets quite frequently.\n",
      "def powerset(S):\n",
      "        \"\"\"Returns the powerset of a set, except for the empty set, i.e., if S = {A, B, C}, returns {{A}, {B}, {C}, {A,B}, {B,C}, {A,C}, {A,B,C}\"\"\"\n",
      "        return list(chain.from_iterable(combinations(S, r) for r in range(1, len(S)+1)))"
     ],
     "language": "python",
     "metadata": {},
     "outputs": [],
     "prompt_number": 4
    },
    {
     "cell_type": "markdown",
     "metadata": {},
     "source": [
      "The following routine creates all trivial FDs using the Reflexivity Axiom."
     ]
    },
    {
     "cell_type": "code",
     "collapsed": false,
     "input": [
      "def applyreflexivity(R):\n",
      "        \"\"\"Generates all trivial dependencies, i.e., of the type X -> subset(X)\"\"\"\n",
      "        return { FD(i, j) for i in powerset(R) for j in powerset(i) }"
     ],
     "language": "python",
     "metadata": {},
     "outputs": [],
     "prompt_number": 5
    },
    {
     "cell_type": "markdown",
     "metadata": {},
     "source": [
      "Next, this routine does Augmentation given a set of functional dependencies. "
     ]
    },
    {
     "cell_type": "code",
     "collapsed": false,
     "input": [
      "def applyaugmentation(F, PW, printflag):\n",
      "        \"\"\"Augmentation: if X --> Y, then XZ --> YZ\n",
      "        PW is powerset of the schema\n",
      "        \"\"\"\n",
      "        N = {FD(x.lhs.union(y), x.rhs.union(y)) for x in F for y in PW}\n",
      "        for fd in N - F:\n",
      "                if printflag: print \"   Adding \" + str(fd) + \" by Augmenting \" + str(x) + \" using \" + \"\".join(y)\n",
      "        return F.union(N)"
     ],
     "language": "python",
     "metadata": {},
     "outputs": [],
     "prompt_number": 6
    },
    {
     "cell_type": "markdown",
     "metadata": {},
     "source": [
      "Finally, apply Transitivity to infer more axioms. Both this and the above function could be more concise if I am not printing out things."
     ]
    },
    {
     "cell_type": "code",
     "collapsed": false,
     "input": [
      "def applytransitivity(F, printflag):\n",
      "        \"\"\"Transitivity: if X --> Y, and Y --> Z, then X --> Z\"\"\"\n",
      "        N = { FD(x.lhs, y.rhs)  for x in F for y in F if x.rhs == y.lhs }\n",
      "        for fd in N - F:\n",
      "                if printflag:\n",
      "                        print \" Adding \" + str(fd) + \" using Transitivity from \" + str(x) + \" and \" + str(y)\n",
      "        return F.union(N)"
     ],
     "language": "python",
     "metadata": {},
     "outputs": [],
     "prompt_number": 7
    },
    {
     "cell_type": "markdown",
     "metadata": {},
     "source": [
      "The following routine computes the Closure of a set of FDs by repeated application of the three axioms. Figure 8.7 from the textbook."
     ]
    },
    {
     "cell_type": "code",
     "collapsed": false,
     "input": [
      "def findClosure(R, F, printflag = False):\n",
      "        \"\"\"Finds closure by repeatedly applying the three Armstrong Axioms, until there is no change\"\"\"\n",
      "\n",
      "        # Start with adding all trivial dependencies generated by using Reflexivity\n",
      "        F = F.union(applyreflexivity(R))\n",
      "        powersetR = list(chain.from_iterable(combinations(list(R), r) for r in range(1, len(R)+1)))\n",
      "\n",
      "        # Repeat application of the other two rules until no change\n",
      "        done = False;\n",
      "        while done == False:\n",
      "                if printflag: print \"Trying to find new FDs using Transitivity\"\n",
      "                F2 = applytransitivity(F, printflag)\n",
      "                if printflag: print \"Trying to find new FDs using Augmentation\"\n",
      "                F2 = applyaugmentation(F2, powerset(R), printflag)\n",
      "                done = len(F2) == len(F)\n",
      "                F = F2\n",
      "        if printflag: print \"Finished\"\n",
      "        return F"
     ],
     "language": "python",
     "metadata": {},
     "outputs": [],
     "prompt_number": 8
    },
    {
     "cell_type": "markdown",
     "metadata": {},
     "source": [
      "Once we have the closure, finding keys and candidate keys is trivial. A key is any set of attribute X such that X --> R is a FD. For X to be candidate key, there shouldn't be any subset of it that is also a key."
     ]
    },
    {
     "cell_type": "code",
     "collapsed": false,
     "input": [
      "def findKeys(R, FClosure):\n",
      "        \"\"\"Keys are those where there is an FD with rhs = R\"\"\"\n",
      "        return { fd.lhs for fd in FClosure if len(fd.rhs) == len(list(R)) }\n",
      "\n",
      "def findCandidateKeys(R, FClosure):\n",
      "        \"\"\"Candidate keys are minimal -- go over the keys increasing order by size, and add if no subset is present\"\"\"\n",
      "        keys = findKeys(R, FClosure)\n",
      "        ckeys = set()\n",
      "        for k in sorted(keys, lambda x, y: cmp(len(x), len(y))):\n",
      "                dontadd = False\n",
      "                for ck in ckeys:\n",
      "                        if(ck <= k):\n",
      "                                dontadd = True  #Found a subset already in ckeys\n",
      "                if not dontadd:\n",
      "                        ckeys.add(k)\n",
      "        return ckeys"
     ],
     "language": "python",
     "metadata": {},
     "outputs": [],
     "prompt_number": 9
    },
    {
     "cell_type": "markdown",
     "metadata": {},
     "source": [
      "The following three routines are pretty similar: one checks whether a schema is in BCNF, another lists out all the violations of BCNF, and the third one finds one of the smallest FDs that violate the BCNF condition (for decomposition purposes)."
     ]
    },
    {
     "cell_type": "code",
     "collapsed": false,
     "input": [
      "def isInBCNF(R, FClosure, keys):\n",
      "        \"\"\"Find if there is a FD alpha --> beta s.t. alpha is not a key\"\"\"\n",
      "        if keys is None: keys = Keys(R, FClosure)\n",
      "        for fd in FClosure:\n",
      "                if (not fd.isTrivial()) and (fd.lhs not in keys):\n",
      "                        return False\n",
      "        return True\n",
      "\n",
      "def listAllBCNFViolations(R, FClosure, keys):\n",
      "        \"\"\"Same as above, but finds all violations and prints them\"\"\"\n",
      "        for fd in FClosure:\n",
      "                if (not fd.isTrivial()) and (fd.lhs not in keys):\n",
      "                        print str(fd) + \" is an FD whose LHS is not a key\"\n",
      "\n",
      "def findSmallestViolatingFD(R, FClosure, keys):\n",
      "        \"\"\"Same as above, but finds a small FD that violates\"\"\"\n",
      "        for fd in sorted(FClosure, lambda x, y: cmp(len(x.lhs), len(y.lhs))):\n",
      "                if (not fd.isTrivial()) and (fd.lhs not in keys):\n",
      "                        return fd"
     ],
     "language": "python",
     "metadata": {},
     "outputs": [],
     "prompt_number": 10
    },
    {
     "cell_type": "markdown",
     "metadata": {},
     "source": [
      "Now we are ready to BCNF decomposition itself. First a subroutine to do a single decomposition, and then a recursive decomposition to do this until everything is in BCNF"
     ]
    },
    {
     "cell_type": "code",
     "collapsed": false,
     "input": [
      "def DecomposeUsingFD(R, FClosure, fd):\n",
      "        \"\"\"Uses the given FD to decompose the schema -- returns the resulting schemas and their closures\n",
      "        Let the fd be X --> Y\n",
      "        Then we create two relations: R1 = X UNION Y, and R2 = X UNION (R - Y)\n",
      "        Then, for R1, we find all FDs from FClosure that apply to R1 (i.e., that only contain attributes from R1)\n",
      "        And do the same for R2\n",
      "        \"\"\"\n",
      "        R1 = fd.lhs | fd.rhs\n",
      "        R2 = set(R) - R1 | fd.lhs\n",
      "        F1Closure = { fd for fd in FClosure if (fd.lhs <= R1) and (fd.rhs <= R1) }\n",
      "        F2Closure = { fd for fd in FClosure if (fd.lhs <= R2) and (fd.rhs <= R2) }\n",
      "\n",
      "        return (R1, R2, F1Closure, F2Closure)\n",
      "\n",
      "# Do a recursive BCNF Decomposition, and print out the results\n",
      "def BCNFDecomposition(R, FClosure):\n",
      "        keys = findKeys(R, FClosure)\n",
      "        if not isInBCNF(R, FClosure, keys):\n",
      "                print \"\".join(R) + \" is not in BCNF\"\n",
      "                fd = findSmallestViolatingFD(R, FClosure, keys)\n",
      "\n",
      "                # Decompose using that FD\n",
      "                (R1, R2, F1Closure, F2Closure) = DecomposeUsingFD(R, FClosure, fd)\n",
      "                print \"Decomposing \" + \"\".join(R) + \" using \" + str(fd) + \" into relations \" + \"\".join(R1) + \" and \" + \"\".join(R2)\n",
      "\n",
      "                # Recurse\n",
      "                BCNFDecomposition(R1, F1Closure)\n",
      "                BCNFDecomposition(R2, F2Closure)\n",
      "        else:\n",
      "                print \"\".join(R) + \" is in BCNF\""
     ],
     "language": "python",
     "metadata": {},
     "outputs": [],
     "prompt_number": 11
    },
    {
     "cell_type": "code",
     "collapsed": false,
     "input": [
      "R = \"ABCD\"\n",
      "F = {FD('A', 'B'), FD('BC', 'D'), FD('D', 'A')}"
     ],
     "language": "python",
     "metadata": {},
     "outputs": [],
     "prompt_number": 12
    },
    {
     "cell_type": "code",
     "collapsed": false,
     "input": [
      "Fclosure = findClosure(R, F)\n",
      "for i in Fclosure:\n",
      "        if not i.isTrivial(): print i\n",
      "\n",
      "keys = findKeys(R, Fclosure)\n",
      "print \"Keys are:\"\n",
      "for i in keys:\n",
      "        print \"\".join(i)\n",
      "\n",
      "candidatekeys = findCandidateKeys(R, Fclosure)\n",
      "print \"Candidate Keys are:\"\n",
      "for i in candidatekeys:\n",
      "        print \"\".join(i)"
     ],
     "language": "python",
     "metadata": {},
     "outputs": [
      {
       "output_type": "stream",
       "stream": "stdout",
       "text": [
        "CB -> AC\n",
        "ACD -> B\n",
        "BD -> AD\n",
        "D -> A\n",
        "AC -> ACD\n",
        "ACD -> ABD\n",
        "ACD -> CBD\n",
        "CD -> BD\n",
        "A -> AB\n",
        "ACB -> AD\n",
        "CBD -> AC\n",
        "AC -> CB\n",
        "BD -> A\n",
        "ACB -> D\n",
        "CD -> AB\n",
        "CB -> AB\n",
        "AC -> AD\n",
        "AD -> ABD\n",
        "CB -> BD\n",
        "A -> B\n",
        "AD -> BD\n",
        "CD -> AC\n",
        "CD -> CBD\n",
        "CB -> AD\n",
        "CB -> CD\n",
        "AC -> ACB\n",
        "CBD -> A\n",
        "BD -> ABD\n",
        "D -> BD\n",
        "CBD -> AD\n",
        "CB -> A\n",
        "AC -> BD\n",
        "CB -> ABD\n",
        "ACB -> ACD\n",
        "ACB -> CBD\n",
        "CD -> ACD\n",
        "ACB -> ABD\n",
        "CD -> ABD\n",
        "CB -> ACB\n",
        "D -> B\n",
        "AC -> CD\n",
        "BD -> AB\n",
        "CB -> D\n",
        "ACD -> BD\n",
        "AC -> AB\n",
        "AC -> B\n",
        "ACD -> ACB\n",
        "D -> AB\n",
        "ACB -> BD\n",
        "CD -> AD\n",
        "CD -> ACB\n",
        "CD -> A\n",
        "CB -> ACBD\n",
        "ACB -> ACBD\n",
        "CB -> CBD\n",
        "CD -> B\n",
        "ACD -> AB\n",
        "CBD -> ABD\n",
        "CBD -> ACB\n",
        "AD -> B\n",
        "AD -> AB\n",
        "CBD -> AB\n",
        "CBD -> ACD\n",
        "CBD -> ACBD\n",
        "ACD -> CB\n",
        "AC -> ACBD\n",
        "AC -> CBD\n",
        "CB -> ACD\n",
        "ACD -> ACBD\n",
        "CD -> ACBD\n",
        "AC -> D\n",
        "D -> AD\n",
        "CD -> CB\n",
        "ACB -> CD\n",
        "AC -> ABD\n",
        "D -> ABD\n",
        "Keys are:\n",
        "ACB\n",
        "CBD\n",
        "ACD\n",
        "ACBD\n",
        "CB\n",
        "AC\n",
        "CD\n",
        "Candidate Keys are:\n",
        "CB\n",
        "AC\n",
        "CD\n"
       ]
      }
     ],
     "prompt_number": 13
    },
    {
     "cell_type": "code",
     "collapsed": false,
     "input": [
      "print \"Checking if the schema is in BCNF\"\n",
      "if isInBCNF(R, Fclosure, keys):\n",
      "        print \"The schema is in BCNF\"\n",
      "\n",
      "(R1, R2, F1Closure, F2Closure) = DecomposeUsingFD(R, Fclosure, FD('B', 'C'))\n",
      "print \"Decomposing using \" + str(FD('B', 'C')) + \" into relations \" + \"\".join(R1) + \" and \" + \"\".join(R2)\n",
      "\n",
      "print \"-------------- Doing a full BCNF Decompisition -------\"\n",
      "BCNFDecomposition(R, Fclosure)\n",
      "print \"------------------------------------------------------\""
     ],
     "language": "python",
     "metadata": {},
     "outputs": [
      {
       "output_type": "stream",
       "stream": "stdout",
       "text": [
        "Checking if the schema is in BCNF\n",
        "Decomposing using B -> C into relations CB and ABD\n",
        "-------------- Doing a full BCNF Decompisition -------\n",
        "ABCD is not in BCNF\n",
        "Decomposing ABCD using D -> A into relations AD and CBD\n",
        "AD is in BCNF\n",
        "CBD is not in BCNF\n",
        "Decomposing CBD using D -> B into relations BD and CD\n",
        "BD is in BCNF\n",
        "CD is in BCNF\n",
        "------------------------------------------------------\n"
       ]
      }
     ],
     "prompt_number": 14
    },
    {
     "cell_type": "code",
     "collapsed": false,
     "input": [
      "BCNFDecomposition(R, Fclosure)"
     ],
     "language": "python",
     "metadata": {},
     "outputs": [
      {
       "output_type": "stream",
       "stream": "stdout",
       "text": [
        "ABCD is not in BCNF\n",
        "Decomposing ABCD using D -> A into relations AD and CBD\n",
        "AD is in BCNF\n",
        "CBD is not in BCNF\n",
        "Decomposing CBD using D -> B into relations BD and CD\n",
        "BD is in BCNF\n",
        "CD is in BCNF\n"
       ]
      }
     ],
     "prompt_number": 15
    },
    {
     "cell_type": "code",
     "collapsed": false,
     "input": [
      "BCNFDecomposition(R, Fclosure)"
     ],
     "language": "python",
     "metadata": {},
     "outputs": [
      {
       "output_type": "stream",
       "stream": "stdout",
       "text": [
        "ABCD is not in BCNF\n",
        "Decomposing ABCD using D -> A into relations AD and CBD\n",
        "AD is in BCNF\n",
        "CBD is not in BCNF\n",
        "Decomposing CBD using D -> B into relations BD and CD\n",
        "BD is in BCNF\n",
        "CD is in BCNF\n"
       ]
      }
     ],
     "prompt_number": 16
    },
    {
     "cell_type": "code",
     "collapsed": false,
     "input": [
      "BCNFDecomposition(\"JKL\", findClosure({FD('JK', 'L'), FD('L', 'K')}))"
     ],
     "language": "python",
     "metadata": {},
     "outputs": [
      {
       "ename": "TypeError",
       "evalue": "findClosure() takes at least 2 arguments (1 given)",
       "output_type": "pyerr",
       "traceback": [
        "\u001b[0;31m---------------------------------------------------------------------------\u001b[0m\n\u001b[0;31mTypeError\u001b[0m                                 Traceback (most recent call last)",
        "\u001b[0;32m<ipython-input-17-26a84ea5d138>\u001b[0m in \u001b[0;36m<module>\u001b[0;34m()\u001b[0m\n\u001b[0;32m----> 1\u001b[0;31m \u001b[0mBCNFDecomposition\u001b[0m\u001b[0;34m(\u001b[0m\u001b[0;34m\"JKL\"\u001b[0m\u001b[0;34m,\u001b[0m \u001b[0mfindClosure\u001b[0m\u001b[0;34m(\u001b[0m\u001b[0;34m{\u001b[0m\u001b[0mFD\u001b[0m\u001b[0;34m(\u001b[0m\u001b[0;34m'JK'\u001b[0m\u001b[0;34m,\u001b[0m \u001b[0;34m'L'\u001b[0m\u001b[0;34m)\u001b[0m\u001b[0;34m,\u001b[0m \u001b[0mFD\u001b[0m\u001b[0;34m(\u001b[0m\u001b[0;34m'L'\u001b[0m\u001b[0;34m,\u001b[0m \u001b[0;34m'K'\u001b[0m\u001b[0;34m)\u001b[0m\u001b[0;34m}\u001b[0m\u001b[0;34m)\u001b[0m\u001b[0;34m)\u001b[0m\u001b[0;34m\u001b[0m\u001b[0m\n\u001b[0m",
        "\u001b[0;31mTypeError\u001b[0m: findClosure() takes at least 2 arguments (1 given)"
       ]
      }
     ],
     "prompt_number": 17
    },
    {
     "cell_type": "code",
     "collapsed": false,
     "input": [
      "BCNFDecomposition(\"JKL\", findClosure(\"JKL\", {FD('JK', 'L'), FD('L', 'K')}))"
     ],
     "language": "python",
     "metadata": {},
     "outputs": []
    },
    {
     "cell_type": "code",
     "collapsed": false,
     "input": [
      "BCNFDecomposition(\"JKL\", findClosure(\"JKL\", {FD('JK', 'L'), FD('L', 'K')}))"
     ],
     "language": "python",
     "metadata": {},
     "outputs": [
      {
       "output_type": "stream",
       "stream": "stdout",
       "text": [
        "JKL is not in BCNF\n",
        "Decomposing JKL using L -> KL into relations KL and JL\n",
        "KL is in BCNF\n",
        "JL is in BCNF\n"
       ]
      }
     ],
     "prompt_number": 18
    },
    {
     "cell_type": "code",
     "collapsed": false,
     "input": [],
     "language": "python",
     "metadata": {},
     "outputs": []
    }
   ],
   "metadata": {}
  }
 ]
}