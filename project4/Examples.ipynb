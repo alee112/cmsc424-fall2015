{
 "metadata": {
  "name": "",
  "signature": "sha256:33ea6541ba95187347acc763df7ddfd8e81f4f21b3d6109493f8d440ca7a13e8"
 },
 "nbformat": 3,
 "nbformat_minor": 0,
 "worksheets": [
  {
   "cells": [
    {
     "cell_type": "code",
     "collapsed": false,
     "input": [
      "import math\n",
      "from disk_relations import *\n",
      "from btree import *\n",
      "from queryprocessing import *\n",
      "from create_sample_databases import *"
     ],
     "language": "python",
     "metadata": {},
     "outputs": [],
     "prompt_number": 16
    },
    {
     "cell_type": "markdown",
     "metadata": {},
     "source": [
      "create_sample_databases has a function to create a database with two relations"
     ]
    },
    {
     "cell_type": "code",
     "collapsed": false,
     "input": [
      "# Create a sample database\n",
      "db1 = createDatabase1(\"univ\")"
     ],
     "language": "python",
     "metadata": {},
     "outputs": [],
     "prompt_number": 17
    },
    {
     "cell_type": "markdown",
     "metadata": {},
     "source": [
      "### B+Trees\n",
      "We can print out the tuples and also the indexes as follows."
     ]
    },
    {
     "cell_type": "code",
     "collapsed": false,
     "input": [
      "db1.getRelation(\"instructor\").printTuples()"
     ],
     "language": "python",
     "metadata": {},
     "outputs": [
      {
       "output_type": "stream",
       "stream": "stdout",
       "text": [
        "================================================================================\n",
        "Relation instructor contains 6 blocks\n",
        "Block No. 34, Type: RelationBlock: ('10101', 'Srinivasan', 'Comp. Sci.', '65000'), ('12121', 'Wu', 'Finance', '90000')\n",
        "Block No. 35, Type: RelationBlock: ('15151', 'Mozart', 'Music', '40000'), ('22222', 'Einstein', 'Physics', '95000')\n",
        "Block No. 36, Type: RelationBlock: ('32343', 'El Said', 'History', '60000'), ('33456', 'Gold', 'Physics', '87000')\n",
        "Block No. 37, Type: RelationBlock: ('45565', 'Katz', 'Comp. Sci.', '75000'), ('58583', 'Califieri', 'History', '62000')\n",
        "Block No. 38, Type: RelationBlock: ('76543', 'Singh', 'Finance', '80000'), ('76766', 'Crick', 'Biology', '72000')\n",
        "Block No. 39, Type: RelationBlock: ('83821', 'Brandt', 'Comp. Sci.', '92000'), ('98345', 'Kim', 'Elec. Eng.', '80000')\n"
       ]
      }
     ],
     "prompt_number": 18
    },
    {
     "cell_type": "code",
     "collapsed": false,
     "input": [
      "db1.getIndex(\"instructor\", \"name\").printTree()"
     ],
     "language": "python",
     "metadata": {},
     "outputs": [
      {
       "output_type": "stream",
       "stream": "stdout",
       "text": [
        "================================================================================\n",
        "Printing BTree Index on Relation instructor on Attribute name\n",
        "--- Level 0 (root): \n",
        "\tBlock No. 50, Type: BTree, Parent: None: {Block 45}, Mozart, {Block 49}\n",
        "--- Level 1: \n",
        "\tBlock No. 45, Type: BTree, Parent: 50: {Block 43}, Einstein, {Block 48}, Gold, {Block 46}\n",
        "\tBlock No. 49, Type: BTree, Parent: 50: {Block 47}, Srinivasan, {Block 44}\n",
        "--- Level 2: \n",
        "\tBlock No. 43, Type: BTree, Parent: 45: {Block 39, Tuple 0}, Brandt, {Block 37, Tuple 1}, Califieri, {Block 38, Tuple 1}, Crick, {Block 48}\n",
        "\tBlock No. 48, Type: BTree, Parent: 45: {Block 35, Tuple 1}, Einstein, {Block 36, Tuple 0}, El Said, {Block 46}\n",
        "\tBlock No. 46, Type: BTree, Parent: 45: {Block 36, Tuple 1}, Gold, {Block 37, Tuple 0}, Katz, {Block 39, Tuple 1}, Kim, {Block 47}\n",
        "\tBlock No. 47, Type: BTree, Parent: 49: {Block 35, Tuple 0}, Mozart, {Block 38, Tuple 0}, Singh, {Block 44}\n",
        "\tBlock No. 44, Type: BTree, Parent: 49: {Block 34, Tuple 0}, Srinivasan, {Block 34, Tuple 1}, Wu, None\n"
       ]
      }
     ],
     "prompt_number": 19
    },
    {
     "cell_type": "markdown",
     "metadata": {},
     "source": [
      "Currently the B+-Tree is printed out level-by-level as shown here. {Block 36} is a pointer to the Block 36, whereas {Block 26, Tuple 0} is a pointer to a specific tuple."
     ]
    },
    {
     "cell_type": "markdown",
     "metadata": {},
     "source": [
      "### Searching\n",
      "The following snippet of code does a search using the tree, and prints out the resulting tuples. It also prints out the blocks that were retrieved during the search."
     ]
    },
    {
     "cell_type": "code",
     "collapsed": false,
     "input": [
      "Globals.printBlockAccesses = True\n",
      "results = db1.getIndex(\"instructor\", \"name\").searchByRange(\"M\", \"S\")\n",
      "if results is not None and len(results) != 0:\n",
      "    print \"Results: \" + \" \".join([str(ptr.getTuple()) for ptr in results])\n",
      "else:\n",
      "    print \"No results found\"\n",
      "Globals.printBlockAccesses = False"
     ],
     "language": "python",
     "metadata": {},
     "outputs": [
      {
       "output_type": "stream",
       "stream": "stdout",
       "text": [
        "Retrieving Block No. 50, Type: BTree, Parent: None: {Block 45}, Mozart, {Block 49}\n",
        "Retrieving Block No. 45, Type: BTree, Parent: 50: {Block 43}, Einstein, {Block 48}, Gold, {Block 46}\n",
        "Retrieving Block No. 46, Type: BTree, Parent: 45: {Block 36, Tuple 1}, Gold, {Block 37, Tuple 0}, Katz, {Block 39, Tuple 1}, Kim, {Block 47}\n",
        "Retrieving Block No. 47, Type: BTree, Parent: 49: {Block 35, Tuple 0}, Mozart, {Block 38, Tuple 0}, Singh, {Block 44}\n",
        "Retrieving Block No. 35, Type: RelationBlock: ('15151', 'Mozart', 'Music', '40000'), ('22222', 'Einstein', 'Physics', '95000')\n",
        "Results: ('15151', 'Mozart', 'Music', '40000')\n"
       ]
      }
     ],
     "prompt_number": 20
    },
    {
     "cell_type": "markdown",
     "metadata": {},
     "source": [
      "### Deleting \n",
      "The following code finds a tuple and then deletes it from the relation (and effectively the two B+-Trees on the relation. We print out the final trees."
     ]
    },
    {
     "cell_type": "code",
     "collapsed": false,
     "input": [
      "deleteKey = \"Srinivasan\"\n",
      "print \"Deleting the entry for key \" + deleteKey\n",
      "index = db1.getIndex(\"instructor\", \"name\")\n",
      "results = index.searchByKey(deleteKey)\n",
      "db1.getRelation(\"instructor\").deleteTuple(results[0])\n",
      "# The BTrees should have been adjusted automatically\n",
      "#index.printTree()\n",
      "#db1.getIndex(\"instructor\", \"dept_name\").printTree()"
     ],
     "language": "python",
     "metadata": {},
     "outputs": [
      {
       "output_type": "stream",
       "stream": "stdout",
       "text": [
        "Deleting the entry for key Srinivasan\n",
        "Block No. 49, Type: BTree, Parent: 50: {Block 47}, Srinivasan, {Block 44}\n",
        "** 0 - 47 - 44\n",
        "** 2 - 44 - 44\n",
        "Block No. 50, Type: BTree, Parent: None: {Block 45}, Mozart, {Block 49}\n",
        "** 0 - 45 - 49\n",
        "** 2 - 49 - 49\n"
       ]
      }
     ],
     "prompt_number": 21
    },
    {
     "cell_type": "markdown",
     "metadata": {},
     "source": [
      "**Task 1**: However, if I try to delete \"Einstein\", there is an error because the functionality to redistribute is missing (and you have to implement this functionality)."
     ]
    },
    {
     "cell_type": "code",
     "collapsed": false,
     "input": [
      "deleteKey = \"Einstein\"\n",
      "index = db1.getIndex(\"instructor\", \"name\")\n",
      "results = index.searchByKey(deleteKey)\n",
      "db1.getRelation(\"instructor\").deleteTuple(results[0])\n",
      "# The BTrees should have been adjusted automatically\n",
      "index.printTree()\n",
      "db1.getIndex(\"instructor\", \"dept_name\").printTree()"
     ],
     "language": "python",
     "metadata": {},
     "outputs": [
      {
       "output_type": "stream",
       "stream": "stdout",
       "text": [
        "Block No. 45, Type: BTree, Parent: None: {Block 43}, Einstein, {Block 48}, Gold, {Block 46}, Mozart, {Block 47}\n",
        "** 0 - 43 - 48\n",
        "** 2 - 48 - 48\n",
        "Redistributing entries between Block No. 43, Type: BTree, Parent: 45: {Block 39, Tuple 0}, Brandt, {Block 37, Tuple 1}, Califieri, {Block 38, Tuple 1}, Crick, {Block 48} and Block No. 48, Type: BTree, Parent: 45: {Block 36, Tuple 0}, El Said, {Block 46}\n"
       ]
      },
      {
       "ename": "ValueError",
       "evalue": "Functionality to be implemented",
       "output_type": "pyerr",
       "traceback": [
        "\u001b[0;31m---------------------------------------------------------------------------\u001b[0m\n\u001b[0;31mValueError\u001b[0m                                Traceback (most recent call last)",
        "\u001b[0;32m<ipython-input-22-c6bb91df63a7>\u001b[0m in \u001b[0;36m<module>\u001b[0;34m()\u001b[0m\n\u001b[1;32m      2\u001b[0m \u001b[0mindex\u001b[0m \u001b[0;34m=\u001b[0m \u001b[0mdb1\u001b[0m\u001b[0;34m.\u001b[0m\u001b[0mgetIndex\u001b[0m\u001b[0;34m(\u001b[0m\u001b[0;34m\"instructor\"\u001b[0m\u001b[0;34m,\u001b[0m \u001b[0;34m\"name\"\u001b[0m\u001b[0;34m)\u001b[0m\u001b[0;34m\u001b[0m\u001b[0m\n\u001b[1;32m      3\u001b[0m \u001b[0mresults\u001b[0m \u001b[0;34m=\u001b[0m \u001b[0mindex\u001b[0m\u001b[0;34m.\u001b[0m\u001b[0msearchByKey\u001b[0m\u001b[0;34m(\u001b[0m\u001b[0mdeleteKey\u001b[0m\u001b[0;34m)\u001b[0m\u001b[0;34m\u001b[0m\u001b[0m\n\u001b[0;32m----> 4\u001b[0;31m \u001b[0mdb1\u001b[0m\u001b[0;34m.\u001b[0m\u001b[0mgetRelation\u001b[0m\u001b[0;34m(\u001b[0m\u001b[0;34m\"instructor\"\u001b[0m\u001b[0;34m)\u001b[0m\u001b[0;34m.\u001b[0m\u001b[0mdeleteTuple\u001b[0m\u001b[0;34m(\u001b[0m\u001b[0mresults\u001b[0m\u001b[0;34m[\u001b[0m\u001b[0;36m0\u001b[0m\u001b[0;34m]\u001b[0m\u001b[0;34m)\u001b[0m\u001b[0;34m\u001b[0m\u001b[0m\n\u001b[0m\u001b[1;32m      5\u001b[0m \u001b[0;31m# The BTrees should have been adjusted automatically\u001b[0m\u001b[0;34m\u001b[0m\u001b[0;34m\u001b[0m\u001b[0m\n\u001b[1;32m      6\u001b[0m \u001b[0mindex\u001b[0m\u001b[0;34m.\u001b[0m\u001b[0mprintTree\u001b[0m\u001b[0;34m(\u001b[0m\u001b[0;34m)\u001b[0m\u001b[0;34m\u001b[0m\u001b[0m\n",
        "\u001b[0;32m/Users/amol/git/cmsc424-fall2015/project4/disk_relations.pyc\u001b[0m in \u001b[0;36mdeleteTuple\u001b[0;34m(self, ptr)\u001b[0m\n\u001b[1;32m    115\u001b[0m                 \u001b[0mb\u001b[0m \u001b[0;34m=\u001b[0m \u001b[0mself\u001b[0m\u001b[0;34m.\u001b[0m\u001b[0mfindBlock\u001b[0m\u001b[0;34m(\u001b[0m\u001b[0mptr\u001b[0m\u001b[0;34m.\u001b[0m\u001b[0mblockNumber\u001b[0m\u001b[0;34m)\u001b[0m\u001b[0;34m\u001b[0m\u001b[0m\n\u001b[1;32m    116\u001b[0m                 \u001b[0;32mfor\u001b[0m \u001b[0;34m(\u001b[0m\u001b[0mbtree\u001b[0m\u001b[0;34m,\u001b[0m \u001b[0mattribute\u001b[0m\u001b[0;34m)\u001b[0m \u001b[0;32min\u001b[0m \u001b[0mself\u001b[0m\u001b[0;34m.\u001b[0m\u001b[0mindexes\u001b[0m\u001b[0;34m:\u001b[0m\u001b[0;34m\u001b[0m\u001b[0m\n\u001b[0;32m--> 117\u001b[0;31m                         \u001b[0mbtree\u001b[0m\u001b[0;34m.\u001b[0m\u001b[0mdelete\u001b[0m\u001b[0;34m(\u001b[0m\u001b[0mkey\u001b[0m \u001b[0;34m=\u001b[0m \u001b[0mb\u001b[0m\u001b[0;34m.\u001b[0m\u001b[0mgetTuple\u001b[0m\u001b[0;34m(\u001b[0m\u001b[0mptr\u001b[0m\u001b[0;34m.\u001b[0m\u001b[0mindex\u001b[0m\u001b[0;34m)\u001b[0m\u001b[0;34m.\u001b[0m\u001b[0mgetAttribute\u001b[0m\u001b[0;34m(\u001b[0m\u001b[0mattribute\u001b[0m\u001b[0;34m)\u001b[0m\u001b[0;34m,\u001b[0m \u001b[0mptr\u001b[0m \u001b[0;34m=\u001b[0m \u001b[0mptr\u001b[0m\u001b[0;34m)\u001b[0m\u001b[0;34m\u001b[0m\u001b[0m\n\u001b[0m\u001b[1;32m    118\u001b[0m                 \u001b[0mb\u001b[0m\u001b[0;34m.\u001b[0m\u001b[0mdeleteTuple\u001b[0m\u001b[0;34m(\u001b[0m\u001b[0mptr\u001b[0m\u001b[0;34m.\u001b[0m\u001b[0mindex\u001b[0m\u001b[0;34m)\u001b[0m\u001b[0;34m\u001b[0m\u001b[0m\n\u001b[1;32m    119\u001b[0m         \u001b[0;32mdef\u001b[0m \u001b[0mprintTuples\u001b[0m\u001b[0;34m(\u001b[0m\u001b[0mself\u001b[0m\u001b[0;34m)\u001b[0m\u001b[0;34m:\u001b[0m\u001b[0;34m\u001b[0m\u001b[0m\n",
        "\u001b[0;32m/Users/amol/git/cmsc424-fall2015/project4/btree.pyc\u001b[0m in \u001b[0;36mdelete\u001b[0;34m(self, key, ptr)\u001b[0m\n\u001b[1;32m    317\u001b[0m         \u001b[0;32mdef\u001b[0m \u001b[0mdelete\u001b[0m\u001b[0;34m(\u001b[0m\u001b[0mself\u001b[0m\u001b[0;34m,\u001b[0m \u001b[0mkey\u001b[0m\u001b[0;34m,\u001b[0m \u001b[0mptr\u001b[0m\u001b[0;34m)\u001b[0m\u001b[0;34m:\u001b[0m\u001b[0;34m\u001b[0m\u001b[0m\n\u001b[1;32m    318\u001b[0m                 \u001b[0mrootBlock\u001b[0m \u001b[0;34m=\u001b[0m \u001b[0mself\u001b[0m\u001b[0;34m.\u001b[0m\u001b[0mroot\u001b[0m\u001b[0;34m(\u001b[0m\u001b[0;34m)\u001b[0m\u001b[0;34m\u001b[0m\u001b[0m\n\u001b[0;32m--> 319\u001b[0;31m                 \u001b[0mrootBlock\u001b[0m\u001b[0;34m.\u001b[0m\u001b[0mdelete\u001b[0m\u001b[0;34m(\u001b[0m\u001b[0mkey\u001b[0m\u001b[0;34m,\u001b[0m \u001b[0mptr\u001b[0m\u001b[0;34m)\u001b[0m\u001b[0;34m\u001b[0m\u001b[0m\n\u001b[0m\u001b[1;32m    320\u001b[0m                 \u001b[0;31m# Need to deal with a pathological case here\u001b[0m\u001b[0;34m\u001b[0m\u001b[0;34m\u001b[0m\u001b[0m\n\u001b[1;32m    321\u001b[0m                 \u001b[0;32mif\u001b[0m \u001b[0mlen\u001b[0m\u001b[0;34m(\u001b[0m\u001b[0mrootBlock\u001b[0m\u001b[0;34m.\u001b[0m\u001b[0mkeysAndPointers\u001b[0m\u001b[0;34m)\u001b[0m \u001b[0;34m==\u001b[0m \u001b[0;36m1\u001b[0m\u001b[0;34m:\u001b[0m\u001b[0;34m\u001b[0m\u001b[0m\n",
        "\u001b[0;32m/Users/amol/git/cmsc424-fall2015/project4/btree.pyc\u001b[0m in \u001b[0;36mdelete\u001b[0;34m(self, key, ptr)\u001b[0m\n\u001b[1;32m    251\u001b[0m                                 \u001b[0;32mif\u001b[0m \u001b[0mkey\u001b[0m \u001b[0;34m<\u001b[0m \u001b[0mself\u001b[0m\u001b[0;34m.\u001b[0m\u001b[0mkeysAndPointers\u001b[0m\u001b[0;34m[\u001b[0m\u001b[0mindex\u001b[0m\u001b[0;34m]\u001b[0m\u001b[0;34m:\u001b[0m\u001b[0;34m\u001b[0m\u001b[0m\n\u001b[1;32m    252\u001b[0m                                         \u001b[0mfound\u001b[0m \u001b[0;34m=\u001b[0m \u001b[0mTrue\u001b[0m\u001b[0;34m\u001b[0m\u001b[0m\n\u001b[0;32m--> 253\u001b[0;31m                                         \u001b[0mret\u001b[0m \u001b[0;34m=\u001b[0m \u001b[0mself\u001b[0m\u001b[0;34m.\u001b[0m\u001b[0mkeysAndPointers\u001b[0m\u001b[0;34m[\u001b[0m\u001b[0mindex\u001b[0m\u001b[0;34m-\u001b[0m\u001b[0;36m1\u001b[0m\u001b[0;34m]\u001b[0m\u001b[0;34m.\u001b[0m\u001b[0mgetBlock\u001b[0m\u001b[0;34m(\u001b[0m\u001b[0;34m)\u001b[0m\u001b[0;34m.\u001b[0m\u001b[0mdelete\u001b[0m\u001b[0;34m(\u001b[0m\u001b[0mkey\u001b[0m\u001b[0;34m,\u001b[0m \u001b[0mptr\u001b[0m\u001b[0;34m)\u001b[0m\u001b[0;34m\u001b[0m\u001b[0m\n\u001b[0m\u001b[1;32m    254\u001b[0m                                         \u001b[0;32mbreak\u001b[0m\u001b[0;34m\u001b[0m\u001b[0m\n\u001b[1;32m    255\u001b[0m                         \u001b[0;32mif\u001b[0m \u001b[0;32mnot\u001b[0m \u001b[0mfound\u001b[0m\u001b[0;34m:\u001b[0m\u001b[0;34m\u001b[0m\u001b[0m\n",
        "\u001b[0;32m/Users/amol/git/cmsc424-fall2015/project4/btree.pyc\u001b[0m in \u001b[0;36mdelete\u001b[0;34m(self, key, ptr)\u001b[0m\n\u001b[1;32m    241\u001b[0m \u001b[0;34m\u001b[0m\u001b[0m\n\u001b[1;32m    242\u001b[0m                         \u001b[0;32mif\u001b[0m \u001b[0mself\u001b[0m\u001b[0;34m.\u001b[0m\u001b[0misUnderfull\u001b[0m\u001b[0;34m(\u001b[0m\u001b[0;34m)\u001b[0m\u001b[0;34m:\u001b[0m\u001b[0;34m\u001b[0m\u001b[0m\n\u001b[0;32m--> 243\u001b[0;31m                                 \u001b[0;32mreturn\u001b[0m \u001b[0mself\u001b[0m\u001b[0;34m.\u001b[0m\u001b[0mmergeOrRedistributeWithSibling\u001b[0m\u001b[0;34m(\u001b[0m\u001b[0;34m)\u001b[0m\u001b[0;34m\u001b[0m\u001b[0m\n\u001b[0m\u001b[1;32m    244\u001b[0m                         \u001b[0;32melse\u001b[0m\u001b[0;34m:\u001b[0m\u001b[0;34m\u001b[0m\u001b[0m\n\u001b[1;32m    245\u001b[0m                                 \u001b[0;32mreturn\u001b[0m \u001b[0mNone\u001b[0m\u001b[0;34m\u001b[0m\u001b[0m\n",
        "\u001b[0;32m/Users/amol/git/cmsc424-fall2015/project4/btree.pyc\u001b[0m in \u001b[0;36mmergeOrRedistributeWithSibling\u001b[0;34m(self)\u001b[0m\n\u001b[1;32m    215\u001b[0m                 \u001b[0;32melse\u001b[0m\u001b[0;34m:\u001b[0m\u001b[0;34m\u001b[0m\u001b[0m\n\u001b[1;32m    216\u001b[0m                         \u001b[0;31m# Need to redistribute pointers between the two and then modify the parent accordingly\u001b[0m\u001b[0;34m\u001b[0m\u001b[0;34m\u001b[0m\u001b[0m\n\u001b[0;32m--> 217\u001b[0;31m                         \u001b[0mnewKey\u001b[0m \u001b[0;34m=\u001b[0m \u001b[0mblock1\u001b[0m\u001b[0;34m.\u001b[0m\u001b[0mredistributeWithBlock\u001b[0m\u001b[0;34m(\u001b[0m\u001b[0mblock2\u001b[0m\u001b[0;34m)\u001b[0m\u001b[0;34m\u001b[0m\u001b[0m\n\u001b[0m\u001b[1;32m    218\u001b[0m \u001b[0;34m\u001b[0m\u001b[0m\n\u001b[1;32m    219\u001b[0m                         \u001b[0;31m# Replace key with newKey in the parent\u001b[0m\u001b[0;34m\u001b[0m\u001b[0;34m\u001b[0m\u001b[0m\n",
        "\u001b[0;32m/Users/amol/git/cmsc424-fall2015/project4/btree.pyc\u001b[0m in \u001b[0;36mredistributeWithBlock\u001b[0;34m(self, otherBlock)\u001b[0m\n\u001b[1;32m    192\u001b[0m         \u001b[0;32mdef\u001b[0m \u001b[0mredistributeWithBlock\u001b[0m\u001b[0;34m(\u001b[0m\u001b[0mself\u001b[0m\u001b[0;34m,\u001b[0m \u001b[0motherBlock\u001b[0m\u001b[0;34m)\u001b[0m\u001b[0;34m:\u001b[0m\u001b[0;34m\u001b[0m\u001b[0m\n\u001b[1;32m    193\u001b[0m                 \u001b[0;32mprint\u001b[0m \u001b[0;34m\"Redistributing entries between \"\u001b[0m \u001b[0;34m+\u001b[0m \u001b[0mstr\u001b[0m\u001b[0;34m(\u001b[0m\u001b[0mself\u001b[0m\u001b[0;34m)\u001b[0m \u001b[0;34m+\u001b[0m \u001b[0;34m\" and \"\u001b[0m \u001b[0;34m+\u001b[0m \u001b[0mstr\u001b[0m\u001b[0;34m(\u001b[0m\u001b[0motherBlock\u001b[0m\u001b[0;34m)\u001b[0m\u001b[0;34m\u001b[0m\u001b[0m\n\u001b[0;32m--> 194\u001b[0;31m                 \u001b[0;32mraise\u001b[0m \u001b[0mValueError\u001b[0m\u001b[0;34m(\u001b[0m\u001b[0;34m\"Functionality to be implemented\"\u001b[0m\u001b[0;34m)\u001b[0m\u001b[0;34m\u001b[0m\u001b[0m\n\u001b[0m\u001b[1;32m    195\u001b[0m \u001b[0;34m\u001b[0m\u001b[0m\n\u001b[1;32m    196\u001b[0m         \u001b[0;32mdef\u001b[0m \u001b[0misUnderfull\u001b[0m\u001b[0;34m(\u001b[0m\u001b[0mself\u001b[0m\u001b[0;34m)\u001b[0m\u001b[0;34m:\u001b[0m\u001b[0;34m\u001b[0m\u001b[0m\n",
        "\u001b[0;31mValueError\u001b[0m: Functionality to be implemented"
       ]
      }
     ],
     "prompt_number": 22
    },
    {
     "cell_type": "markdown",
     "metadata": {},
     "source": [
      "## Query Processing Operators\n",
      "`queryprocessing.py` contains simple implementations of several different operators, including SequentialScan, Nested Loops Join, and Hash Join. The operators are implemented using the iterator interface, where every operator exposes a basic API: `init()`, `get_next()`, and `close()`. This allows us to chain together the operators in a variety of ways without having to worry about which operator is providing input to which operator.\n",
      "\n",
      "*Note: The provided code has limited functionality. For example, the joins require SequentialScan as the inputs, but this is a limitation of the current code.*\n",
      "\n",
      "The following shows the simplest SequentialScan operator."
     ]
    },
    {
     "cell_type": "code",
     "collapsed": false,
     "input": [
      "scan1 = SequentialScan(db1.getRelation(\"instructor\"))\n",
      "scan1.init()\n",
      "for t in scan1.get_next():\n",
      "    print \"---> \" + str(t)"
     ],
     "language": "python",
     "metadata": {},
     "outputs": [
      {
       "output_type": "stream",
       "stream": "stdout",
       "text": [
        "---> ('12121', 'Wu', 'Finance', '90000')\n",
        "---> ('15151', 'Mozart', 'Music', '40000')\n",
        "---> ('22222', 'Einstein', 'Physics', '95000')\n",
        "---> ('32343', 'El Said', 'History', '60000')\n",
        "---> ('33456', 'Gold', 'Physics', '87000')\n",
        "---> ('45565', 'Katz', 'Comp. Sci.', '75000')\n",
        "---> ('58583', 'Califieri', 'History', '62000')\n",
        "---> ('76543', 'Singh', 'Finance', '80000')\n",
        "---> ('76766', 'Crick', 'Biology', '72000')\n",
        "---> ('83821', 'Brandt', 'Comp. Sci.', '92000')\n",
        "---> ('98345', 'Kim', 'Elec. Eng.', '80000')\n"
       ]
      }
     ],
     "prompt_number": 23
    },
    {
     "cell_type": "markdown",
     "metadata": {},
     "source": [
      "The following shows an example of a NestedLoopsJoin, where we first set up two SequentialScan's and then use them as inputs to the NestedLoopsJoin opeartor."
     ]
    },
    {
     "cell_type": "code",
     "collapsed": false,
     "input": [
      "scan1 = SequentialScan(db1.getRelation(\"instructor\"))\n",
      "scan2 = SequentialScan(db1.getRelation(\"department\"))\n",
      "nl_join = NestedLoopsJoin(scan1, scan2, \"dept_name\", \"dept_name\")\n",
      "nl_join.init()\n",
      "for t in nl_join.get_next():\n",
      "    print \"---> \" + str(t)"
     ],
     "language": "python",
     "metadata": {},
     "outputs": [
      {
       "output_type": "stream",
       "stream": "stdout",
       "text": [
        "---> ['12121', 'Wu', 'Finance', '90000', 'Finance', 'Painter', '120000']\n",
        "---> ['15151', 'Mozart', 'Music', '40000', 'Music', 'Packard', '80000']\n",
        "---> ['22222', 'Einstein', 'Physics', '95000', 'Physics', 'Watson', '70000']\n",
        "---> ['32343', 'El Said', 'History', '60000', 'History', 'Painter', '50000']\n",
        "---> ['33456', 'Gold', 'Physics', '87000', 'Physics', 'Watson', '70000']\n",
        "---> ['45565', 'Katz', 'Comp. Sci.', '75000', 'Comp. Sci.', 'Taylor', '100000']\n",
        "---> ['58583', 'Califieri', 'History', '62000', 'History', 'Painter', '50000']\n",
        "---> ['76543', 'Singh', 'Finance', '80000', 'Finance', 'Painter', '120000']\n",
        "---> ['76766', 'Crick', 'Biology', '72000', 'Biology', 'Watson', '90000']\n",
        "---> ['83821', 'Brandt', 'Comp. Sci.', '92000', 'Comp. Sci.', 'Taylor', '100000']\n",
        "---> ['98345', 'Kim', 'Elec. Eng.', '80000', 'Elec. Eng.', 'Taylor', '85000']\n"
       ]
      }
     ],
     "prompt_number": 24
    },
    {
     "cell_type": "markdown",
     "metadata": {},
     "source": [
      "If I reexecute the above after turning on printBlockAccesses, I can see all the blocks that were read."
     ]
    },
    {
     "cell_type": "code",
     "collapsed": false,
     "input": [
      "Globals.printBlockAccesses = True\n",
      "nl_join.init()\n",
      "for t in nl_join.get_next():\n",
      "    print \"---> \" + str(t)\n",
      "Globals.printBlockAccesses = False"
     ],
     "language": "python",
     "metadata": {},
     "outputs": [
      {
       "output_type": "stream",
       "stream": "stdout",
       "text": [
        "Retrieving Block No. 34, Type: RelationBlock: None, ('12121', 'Wu', 'Finance', '90000')\n",
        "Retrieving Block No. 40, Type: RelationBlock: ('Biology', 'Watson', '90000'), ('Comp. Sci.', 'Taylor', '100000'), ('Elec. Eng.', 'Taylor', '85000')\n",
        "Retrieving Block No. 41, Type: RelationBlock: ('Finance', 'Painter', '120000'), ('History', 'Painter', '50000'), ('Music', 'Packard', '80000')\n",
        "---> ['12121', 'Wu', 'Finance', '90000', 'Finance', 'Painter', '120000']\n",
        "Retrieving Block No. 42, Type: RelationBlock: ('Physics', 'Watson', '70000'), None, None\n",
        "Retrieving Block No. 35, Type: RelationBlock: ('15151', 'Mozart', 'Music', '40000'), ('22222', 'Einstein', 'Physics', '95000')\n",
        "Retrieving Block No. 40, Type: RelationBlock: ('Biology', 'Watson', '90000'), ('Comp. Sci.', 'Taylor', '100000'), ('Elec. Eng.', 'Taylor', '85000')\n",
        "Retrieving Block No. 41, Type: RelationBlock: ('Finance', 'Painter', '120000'), ('History', 'Painter', '50000'), ('Music', 'Packard', '80000')\n",
        "---> ['15151', 'Mozart', 'Music', '40000', 'Music', 'Packard', '80000']\n",
        "Retrieving Block No. 42, Type: RelationBlock: ('Physics', 'Watson', '70000'), None, None\n",
        "Retrieving Block No. 40, Type: RelationBlock: ('Biology', 'Watson', '90000'), ('Comp. Sci.', 'Taylor', '100000'), ('Elec. Eng.', 'Taylor', '85000')\n",
        "Retrieving Block No. 41, Type: RelationBlock: ('Finance', 'Painter', '120000'), ('History', 'Painter', '50000'), ('Music', 'Packard', '80000')\n",
        "Retrieving Block No. 42, Type: RelationBlock: ('Physics', 'Watson', '70000'), None, None\n",
        "---> ['22222', 'Einstein', 'Physics', '95000', 'Physics', 'Watson', '70000']\n",
        "Retrieving Block No. 36, Type: RelationBlock: ('32343', 'El Said', 'History', '60000'), ('33456', 'Gold', 'Physics', '87000')\n",
        "Retrieving Block No. 40, Type: RelationBlock: ('Biology', 'Watson', '90000'), ('Comp. Sci.', 'Taylor', '100000'), ('Elec. Eng.', 'Taylor', '85000')\n",
        "Retrieving Block No. 41, Type: RelationBlock: ('Finance', 'Painter', '120000'), ('History', 'Painter', '50000'), ('Music', 'Packard', '80000')\n",
        "---> ['32343', 'El Said', 'History', '60000', 'History', 'Painter', '50000']\n",
        "Retrieving Block No. 42, Type: RelationBlock: ('Physics', 'Watson', '70000'), None, None\n",
        "Retrieving Block No. 40, Type: RelationBlock: ('Biology', 'Watson', '90000'), ('Comp. Sci.', 'Taylor', '100000'), ('Elec. Eng.', 'Taylor', '85000')\n",
        "Retrieving Block No. 41, Type: RelationBlock: ('Finance', 'Painter', '120000'), ('History', 'Painter', '50000'), ('Music', 'Packard', '80000')\n",
        "Retrieving Block No. 42, Type: RelationBlock: ('Physics', 'Watson', '70000'), None, None\n",
        "---> ['33456', 'Gold', 'Physics', '87000', 'Physics', 'Watson', '70000']\n",
        "Retrieving Block No. 37, Type: RelationBlock: ('45565', 'Katz', 'Comp. Sci.', '75000'), ('58583', 'Califieri', 'History', '62000')\n",
        "Retrieving Block No. 40, Type: RelationBlock: ('Biology', 'Watson', '90000'), ('Comp. Sci.', 'Taylor', '100000'), ('Elec. Eng.', 'Taylor', '85000')\n",
        "---> ['45565', 'Katz', 'Comp. Sci.', '75000', 'Comp. Sci.', 'Taylor', '100000']\n",
        "Retrieving Block No. 41, Type: RelationBlock: ('Finance', 'Painter', '120000'), ('History', 'Painter', '50000'), ('Music', 'Packard', '80000')\n",
        "Retrieving Block No. 42, Type: RelationBlock: ('Physics', 'Watson', '70000'), None, None\n",
        "Retrieving Block No. 40, Type: RelationBlock: ('Biology', 'Watson', '90000'), ('Comp. Sci.', 'Taylor', '100000'), ('Elec. Eng.', 'Taylor', '85000')\n",
        "Retrieving Block No. 41, Type: RelationBlock: ('Finance', 'Painter', '120000'), ('History', 'Painter', '50000'), ('Music', 'Packard', '80000')\n",
        "---> ['58583', 'Califieri', 'History', '62000', 'History', 'Painter', '50000']\n",
        "Retrieving Block No. 42, Type: RelationBlock: ('Physics', 'Watson', '70000'), None, None\n",
        "Retrieving Block No. 38, Type: RelationBlock: ('76543', 'Singh', 'Finance', '80000'), ('76766', 'Crick', 'Biology', '72000')\n",
        "Retrieving Block No. 40, Type: RelationBlock: ('Biology', 'Watson', '90000'), ('Comp. Sci.', 'Taylor', '100000'), ('Elec. Eng.', 'Taylor', '85000')\n",
        "Retrieving Block No. 41, Type: RelationBlock: ('Finance', 'Painter', '120000'), ('History', 'Painter', '50000'), ('Music', 'Packard', '80000')\n",
        "---> ['76543', 'Singh', 'Finance', '80000', 'Finance', 'Painter', '120000']\n",
        "Retrieving Block No. 42, Type: RelationBlock: ('Physics', 'Watson', '70000'), None, None\n",
        "Retrieving Block No. 40, Type: RelationBlock: ('Biology', 'Watson', '90000'), ('Comp. Sci.', 'Taylor', '100000'), ('Elec. Eng.', 'Taylor', '85000')\n",
        "---> ['76766', 'Crick', 'Biology', '72000', 'Biology', 'Watson', '90000']\n",
        "Retrieving Block No. 41, Type: RelationBlock: ('Finance', 'Painter', '120000'), ('History', 'Painter', '50000'), ('Music', 'Packard', '80000')\n",
        "Retrieving Block No. 42, Type: RelationBlock: ('Physics', 'Watson', '70000'), None, None\n",
        "Retrieving Block No. 39, Type: RelationBlock: ('83821', 'Brandt', 'Comp. Sci.', '92000'), ('98345', 'Kim', 'Elec. Eng.', '80000')\n",
        "Retrieving Block No. 40, Type: RelationBlock: ('Biology', 'Watson', '90000'), ('Comp. Sci.', 'Taylor', '100000'), ('Elec. Eng.', 'Taylor', '85000')\n",
        "---> ['83821', 'Brandt', 'Comp. Sci.', '92000', 'Comp. Sci.', 'Taylor', '100000']\n",
        "Retrieving Block No. 41, Type: RelationBlock: ('Finance', 'Painter', '120000'), ('History', 'Painter', '50000'), ('Music', 'Packard', '80000')\n",
        "Retrieving Block No. 42, Type: RelationBlock: ('Physics', 'Watson', '70000'), None, None\n",
        "Retrieving Block No. 40, Type: RelationBlock: ('Biology', 'Watson', '90000'), ('Comp. Sci.', 'Taylor', '100000'), ('Elec. Eng.', 'Taylor', '85000')\n",
        "---> ['98345', 'Kim', 'Elec. Eng.', '80000', 'Elec. Eng.', 'Taylor', '85000']\n",
        "Retrieving Block No. 41, Type: RelationBlock: ('Finance', 'Painter', '120000'), ('History', 'Painter', '50000'), ('Music', 'Packard', '80000')\n",
        "Retrieving Block No. 42, Type: RelationBlock: ('Physics', 'Watson', '70000'), None, None\n"
       ]
      }
     ],
     "prompt_number": 25
    },
    {
     "cell_type": "markdown",
     "metadata": {},
     "source": [
      "Similarly, basic HashJoin also works."
     ]
    },
    {
     "cell_type": "code",
     "collapsed": false,
     "input": [
      "hash_join = HashJoin(SequentialScan(db1.getRelation(\"instructor\")), SequentialScan(db1.getRelation(\"department\")), \"dept_name\", \"dept_name\", HashJoin.INNER_JOIN)\n",
      "hash_join.init()\n",
      "for t in hash_join.get_next():\n",
      "        print \"---> \" + str(t)"
     ],
     "language": "python",
     "metadata": {},
     "outputs": [
      {
       "output_type": "stream",
       "stream": "stdout",
       "text": [
        "---> ['12121', 'Wu', 'Finance', '90000', 'Finance', 'Painter', '120000']\n",
        "---> ['15151', 'Mozart', 'Music', '40000', 'Music', 'Packard', '80000']\n",
        "---> ['22222', 'Einstein', 'Physics', '95000', 'Physics', 'Watson', '70000']\n",
        "---> ['32343', 'El Said', 'History', '60000', 'History', 'Painter', '50000']\n",
        "---> ['33456', 'Gold', 'Physics', '87000', 'Physics', 'Watson', '70000']\n",
        "---> ['45565', 'Katz', 'Comp. Sci.', '75000', 'Comp. Sci.', 'Taylor', '100000']\n",
        "---> ['58583', 'Califieri', 'History', '62000', 'History', 'Painter', '50000']\n",
        "---> ['76543', 'Singh', 'Finance', '80000', 'Finance', 'Painter', '120000']\n",
        "---> ['76766', 'Crick', 'Biology', '72000', 'Biology', 'Watson', '90000']\n",
        "---> ['83821', 'Brandt', 'Comp. Sci.', '92000', 'Comp. Sci.', 'Taylor', '100000']\n",
        "---> ['98345', 'Kim', 'Elec. Eng.', '80000', 'Elec. Eng.', 'Taylor', '85000']\n"
       ]
      }
     ],
     "prompt_number": 26
    },
    {
     "cell_type": "markdown",
     "metadata": {},
     "source": [
      "**Tasks 2, 3, 4**: However, SortMergeJoin, and the Outer Hash Joins don't work. You are to implement that functionality so that the following commands work."
     ]
    },
    {
     "cell_type": "code",
     "collapsed": false,
     "input": [
      "hash_join = HashJoin(SequentialScan(db1.getRelation(\"instructor\")), \n",
      "                         SequentialScan(db1.getRelation(\"department\")), \"dept_name\", \"dept_name\", HashJoin.LEFT_OUTER_JOIN)\n",
      "hash_join.init()\n",
      "for t in hash_join.get_next():\n",
      "        print \"---> \" + str(t)"
     ],
     "language": "python",
     "metadata": {},
     "outputs": [
      {
       "ename": "ValueError",
       "evalue": "Functionality to be implemented",
       "output_type": "pyerr",
       "traceback": [
        "\u001b[0;31m---------------------------------------------------------------------------\u001b[0m\n\u001b[0;31mValueError\u001b[0m                                Traceback (most recent call last)",
        "\u001b[0;32m<ipython-input-27-a270f04e373b>\u001b[0m in \u001b[0;36m<module>\u001b[0;34m()\u001b[0m\n\u001b[1;32m      2\u001b[0m                          SequentialScan(db1.getRelation(\"department\")), \"dept_name\", \"dept_name\", HashJoin.LEFT_OUTER_JOIN)\n\u001b[1;32m      3\u001b[0m \u001b[0mhash_join\u001b[0m\u001b[0;34m.\u001b[0m\u001b[0minit\u001b[0m\u001b[0;34m(\u001b[0m\u001b[0;34m)\u001b[0m\u001b[0;34m\u001b[0m\u001b[0m\n\u001b[0;32m----> 4\u001b[0;31m \u001b[0;32mfor\u001b[0m \u001b[0mt\u001b[0m \u001b[0;32min\u001b[0m \u001b[0mhash_join\u001b[0m\u001b[0;34m.\u001b[0m\u001b[0mget_next\u001b[0m\u001b[0;34m(\u001b[0m\u001b[0;34m)\u001b[0m\u001b[0;34m:\u001b[0m\u001b[0;34m\u001b[0m\u001b[0m\n\u001b[0m\u001b[1;32m      5\u001b[0m         \u001b[0;32mprint\u001b[0m \u001b[0;34m\"---> \"\u001b[0m \u001b[0;34m+\u001b[0m \u001b[0mstr\u001b[0m\u001b[0;34m(\u001b[0m\u001b[0mt\u001b[0m\u001b[0;34m)\u001b[0m\u001b[0;34m\u001b[0m\u001b[0m\n",
        "\u001b[0;32m/Users/amol/git/cmsc424-fall2015/project4/queryprocessing.pyc\u001b[0m in \u001b[0;36mget_next\u001b[0;34m(self)\u001b[0m\n\u001b[1;32m    128\u001b[0m \u001b[0;34m\u001b[0m\u001b[0m\n\u001b[1;32m    129\u001b[0m                 \u001b[0;32melif\u001b[0m \u001b[0mself\u001b[0m\u001b[0;34m.\u001b[0m\u001b[0mjointype\u001b[0m \u001b[0;34m==\u001b[0m \u001b[0mself\u001b[0m\u001b[0;34m.\u001b[0m\u001b[0mLEFT_OUTER_JOIN\u001b[0m\u001b[0;34m:\u001b[0m\u001b[0;34m\u001b[0m\u001b[0m\n\u001b[0;32m--> 130\u001b[0;31m                         \u001b[0;32mraise\u001b[0m \u001b[0mValueError\u001b[0m\u001b[0;34m(\u001b[0m\u001b[0;34m\"Functionality to be implemented\"\u001b[0m\u001b[0;34m)\u001b[0m\u001b[0;34m\u001b[0m\u001b[0m\n\u001b[0m\u001b[1;32m    131\u001b[0m                 \u001b[0;32melif\u001b[0m \u001b[0mself\u001b[0m\u001b[0;34m.\u001b[0m\u001b[0mjointype\u001b[0m \u001b[0;34m==\u001b[0m \u001b[0mself\u001b[0m\u001b[0;34m.\u001b[0m\u001b[0mRIGHT_OUTER_JOIN\u001b[0m\u001b[0;34m:\u001b[0m\u001b[0;34m\u001b[0m\u001b[0m\n\u001b[1;32m    132\u001b[0m                         \u001b[0;32mraise\u001b[0m \u001b[0mValueError\u001b[0m\u001b[0;34m(\u001b[0m\u001b[0;34m\"Functionality to be implemented\"\u001b[0m\u001b[0;34m)\u001b[0m\u001b[0;34m\u001b[0m\u001b[0m\n",
        "\u001b[0;31mValueError\u001b[0m: Functionality to be implemented"
       ]
      }
     ],
     "prompt_number": 27
    },
    {
     "cell_type": "code",
     "collapsed": false,
     "input": [
      "hash_join = HashJoin(SequentialScan(db1.getRelation(\"instructor\")), \n",
      "                         SequentialScan(db1.getRelation(\"department\")), \"dept_name\", \"dept_name\", HashJoin.RIGHT_OUTER_JOIN)\n",
      "hash_join.init()\n",
      "for t in hash_join.get_next():\n",
      "        print \"---> \" + str(t)"
     ],
     "language": "python",
     "metadata": {},
     "outputs": [
      {
       "ename": "ValueError",
       "evalue": "Functionality to be implemented",
       "output_type": "pyerr",
       "traceback": [
        "\u001b[0;31m---------------------------------------------------------------------------\u001b[0m\n\u001b[0;31mValueError\u001b[0m                                Traceback (most recent call last)",
        "\u001b[0;32m<ipython-input-28-279f05615eb8>\u001b[0m in \u001b[0;36m<module>\u001b[0;34m()\u001b[0m\n\u001b[1;32m      2\u001b[0m                          SequentialScan(db1.getRelation(\"department\")), \"dept_name\", \"dept_name\", HashJoin.RIGHT_OUTER_JOIN)\n\u001b[1;32m      3\u001b[0m \u001b[0mhash_join\u001b[0m\u001b[0;34m.\u001b[0m\u001b[0minit\u001b[0m\u001b[0;34m(\u001b[0m\u001b[0;34m)\u001b[0m\u001b[0;34m\u001b[0m\u001b[0m\n\u001b[0;32m----> 4\u001b[0;31m \u001b[0;32mfor\u001b[0m \u001b[0mt\u001b[0m \u001b[0;32min\u001b[0m \u001b[0mhash_join\u001b[0m\u001b[0;34m.\u001b[0m\u001b[0mget_next\u001b[0m\u001b[0;34m(\u001b[0m\u001b[0;34m)\u001b[0m\u001b[0;34m:\u001b[0m\u001b[0;34m\u001b[0m\u001b[0m\n\u001b[0m\u001b[1;32m      5\u001b[0m         \u001b[0;32mprint\u001b[0m \u001b[0;34m\"---> \"\u001b[0m \u001b[0;34m+\u001b[0m \u001b[0mstr\u001b[0m\u001b[0;34m(\u001b[0m\u001b[0mt\u001b[0m\u001b[0;34m)\u001b[0m\u001b[0;34m\u001b[0m\u001b[0m\n",
        "\u001b[0;32m/Users/amol/git/cmsc424-fall2015/project4/queryprocessing.pyc\u001b[0m in \u001b[0;36mget_next\u001b[0;34m(self)\u001b[0m\n\u001b[1;32m    130\u001b[0m                         \u001b[0;32mraise\u001b[0m \u001b[0mValueError\u001b[0m\u001b[0;34m(\u001b[0m\u001b[0;34m\"Functionality to be implemented\"\u001b[0m\u001b[0;34m)\u001b[0m\u001b[0;34m\u001b[0m\u001b[0m\n\u001b[1;32m    131\u001b[0m                 \u001b[0;32melif\u001b[0m \u001b[0mself\u001b[0m\u001b[0;34m.\u001b[0m\u001b[0mjointype\u001b[0m \u001b[0;34m==\u001b[0m \u001b[0mself\u001b[0m\u001b[0;34m.\u001b[0m\u001b[0mRIGHT_OUTER_JOIN\u001b[0m\u001b[0;34m:\u001b[0m\u001b[0;34m\u001b[0m\u001b[0m\n\u001b[0;32m--> 132\u001b[0;31m                         \u001b[0;32mraise\u001b[0m \u001b[0mValueError\u001b[0m\u001b[0;34m(\u001b[0m\u001b[0;34m\"Functionality to be implemented\"\u001b[0m\u001b[0;34m)\u001b[0m\u001b[0;34m\u001b[0m\u001b[0m\n\u001b[0m\u001b[1;32m    133\u001b[0m                 \u001b[0;32melse\u001b[0m\u001b[0;34m:\u001b[0m\u001b[0;34m\u001b[0m\u001b[0m\n\u001b[1;32m    134\u001b[0m                         \u001b[0;32mraise\u001b[0m \u001b[0mValueError\u001b[0m\u001b[0;34m(\u001b[0m\u001b[0;34m\"This should not happen\"\u001b[0m\u001b[0;34m)\u001b[0m\u001b[0;34m\u001b[0m\u001b[0m\n",
        "\u001b[0;31mValueError\u001b[0m: Functionality to be implemented"
       ]
      }
     ],
     "prompt_number": 28
    },
    {
     "cell_type": "code",
     "collapsed": false,
     "input": [
      "sm_join = SortMergeJoin(SequentialScan(db1.getRelation(\"instructor\")), \n",
      "                         SequentialScan(db1.getRelation(\"department\")), \"dept_name\", \"dept_name\")\n",
      "sm_join.init()\n",
      "for t in sm_join.get_next():\n",
      "        print \"---> \" + str(t)"
     ],
     "language": "python",
     "metadata": {},
     "outputs": []
    },
    {
     "cell_type": "markdown",
     "metadata": {},
     "source": [
      "#### Aggregates\n",
      "Finally, the basic aggregate operation works as shown below (it produces a single answer).\n",
      "\n",
      "\n",
      "**Task 5**: However, the following \"group by\" aggregate portion doesn't work. You are to implement that."
     ]
    },
    {
     "cell_type": "code",
     "collapsed": false,
     "input": [
      "aggr = GroupByAggregate(SequentialScan(db1.getRelation(\"instructor\")), \"salary\", GroupByAggregate.SUM)\n",
      "aggr.init()\n",
      "for t in aggr.get_next():\n",
      "        print \"---> \" + str(t)\n",
      "\n",
      "aggr = GroupByAggregate(SequentialScan(db1.getRelation(\"instructor\")), \"salary\", GroupByAggregate.SUM, \"dept_name\")\n",
      "aggr.init()\n",
      "for t in aggr.get_next():\n",
      "        print \"---> \" + str(t)"
     ],
     "language": "python",
     "metadata": {},
     "outputs": []
    },
    {
     "cell_type": "code",
     "collapsed": false,
     "input": [
      "aggr = GroupByAggregate(SequentialScan(db1.getRelation(\"instructor\")), \"salary\", GroupByAggregate.MAX)\n",
      "aggr.init()\n",
      "for t in aggr.get_next():\n",
      "        print \"---> \" + str(t)"
     ],
     "language": "python",
     "metadata": {},
     "outputs": []
    },
    {
     "cell_type": "code",
     "collapsed": false,
     "input": [
      "aggr = GroupByAggregate(SequentialScan(db1.getRelation(\"instructor\")), \"salary\", GroupByAggregate.MIN)\n",
      "aggr.init()\n",
      "for t in aggr.get_next():\n",
      "        print \"---> \" + str(t)"
     ],
     "language": "python",
     "metadata": {},
     "outputs": []
    },
    {
     "cell_type": "code",
     "collapsed": false,
     "input": [
      "aggr = GroupByAggregate(SequentialScan(db1.getRelation(\"dept_name\")), \"salary\", GroupByAggregate.MAX)\n",
      "aggr.init()\n",
      "for t in aggr.get_next():\n",
      "        print \"---> \" + str(t)"
     ],
     "language": "python",
     "metadata": {},
     "outputs": []
    },
    {
     "cell_type": "code",
     "collapsed": false,
     "input": [
      "aggr = GroupByAggregate(SequentialScan(db1.getRelation(\"instructor\")), \"dept_name\", GroupByAggregate.MAX)\n",
      "aggr.init()\n",
      "for t in aggr.get_next():\n",
      "        print \"---> \" + str(t)"
     ],
     "language": "python",
     "metadata": {},
     "outputs": []
    },
    {
     "cell_type": "code",
     "collapsed": false,
     "input": [
      "index_name"
     ],
     "language": "python",
     "metadata": {},
     "outputs": []
    },
    {
     "cell_type": "code",
     "collapsed": false,
     "input": [
      "index.printTree()"
     ],
     "language": "python",
     "metadata": {},
     "outputs": [
      {
       "output_type": "stream",
       "stream": "stdout",
       "text": [
        "================================================================================\n",
        "Printing BTree Index on Relation instructor on Attribute name\n",
        "--- Level 0 (root): \n",
        "\tBlock No. 45, Type: BTree, Parent: None: {Block 43}, Einstein, {Block 48}, Gold, {Block 46}, Mozart, {Block 47}\n",
        "--- Level 1: \n",
        "\tBlock No. 43, Type: BTree, Parent: 45: {Block 39, Tuple 0}, Brandt, {Block 37, Tuple 1}, Califieri, {Block 38, Tuple 1}, Crick, {Block 48}\n",
        "\tBlock No. 48, Type: BTree, Parent: 45: {Block 36, Tuple 0}, El Said, {Block 46}\n",
        "\tBlock No. 46, Type: BTree, Parent: 45: {Block 36, Tuple 1}, Gold, {Block 37, Tuple 0}, Katz, {Block 39, Tuple 1}, Kim, {Block 47}\n",
        "\tBlock No. 47, Type: BTree, Parent: 45: {Block 35, Tuple 0}, Mozart, {Block 38, Tuple 0}, Singh, {Block 34, Tuple 1}, Wu, None\n"
       ]
      }
     ],
     "prompt_number": 29
    },
    {
     "cell_type": "code",
     "collapsed": false,
     "input": [
      "results = index.searchByKey(\"El Said\")"
     ],
     "language": "python",
     "metadata": {},
     "outputs": [],
     "prompt_number": 30
    },
    {
     "cell_type": "code",
     "collapsed": false,
     "input": [
      "results"
     ],
     "language": "python",
     "metadata": {},
     "outputs": [
      {
       "metadata": {},
       "output_type": "pyout",
       "prompt_number": 31,
       "text": [
        "[<disk_relations.Pointer instance at 0x103c59638>]"
       ]
      }
     ],
     "prompt_number": 31
    },
    {
     "cell_type": "code",
     "collapsed": false,
     "input": [
      "results[0].getBlock()"
     ],
     "language": "python",
     "metadata": {},
     "outputs": [
      {
       "metadata": {},
       "output_type": "pyout",
       "prompt_number": 32,
       "text": [
        "<disk_relations.RelationBlock instance at 0x1046162d8>"
       ]
      }
     ],
     "prompt_number": 32
    },
    {
     "cell_type": "code",
     "collapsed": false,
     "input": [
      "db1.getRelation(\"instructor\").deleteTuple(results[0])"
     ],
     "language": "python",
     "metadata": {},
     "outputs": [
      {
       "output_type": "stream",
       "stream": "stdout",
       "text": [
        "Block No. 45, Type: BTree, Parent: None: {Block 43}, Einstein, {Block 48}, Gold, {Block 46}, Mozart, {Block 47}\n",
        "** 0 - 43 - 48\n",
        "** 2 - 48 - 48\n"
       ]
      }
     ],
     "prompt_number": 33
    },
    {
     "cell_type": "code",
     "collapsed": false,
     "input": [],
     "language": "python",
     "metadata": {},
     "outputs": []
    }
   ],
   "metadata": {}
  }
 ]
}